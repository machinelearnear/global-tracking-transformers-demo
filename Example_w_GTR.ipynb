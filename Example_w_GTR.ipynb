{
 "cells": [
  {
   "cell_type": "markdown",
   "id": "d6879575-20de-4a07-85be-faffd7f97c1f",
   "metadata": {},
   "source": [
    "# Global Tracking Transformers"
   ]
  },
  {
   "cell_type": "markdown",
   "id": "9e1d6409-853a-4630-a3e9-abe3f043d28d",
   "metadata": {},
   "source": [
    "## Requirements\n",
    "- Linux or macOS with Python ≥ 3.6\n",
    "- PyTorch ≥ 1.8.\n",
    "  Install them together at [pytorch.org](https://pytorch.org) to make sure of this. Note, please check\n",
    "  PyTorch version matches that is required by Detectron2.\n",
    "- Detectron2: follow [Detectron2 installation instructions](https://detectron2.readthedocs.io/tutorials/install.html)."
   ]
  },
  {
   "cell_type": "code",
   "execution_count": 1,
   "id": "e5315f2e-269c-4a26-9ce2-90f228c617fd",
   "metadata": {},
   "outputs": [],
   "source": [
    "try:\n",
    "    import detectron2\n",
    "except ImportError:\n",
    "    import torch\n",
    "    TORCH_VERSION = \".\".join(torch.__version__.split(\".\")[:2])\n",
    "    CUDA_VERSION = torch.__version__.split(\"+\")[-1] if torch.cuda.is_available() else 'cpu'\n",
    "    print('Detectron2 not found. Installing now..\"\n",
    "    !python -m pip install detectron2 -f \\\n",
    "        https://dl.fbaipublicfiles.com/detectron2/wheels/$CUDA_VERSION/torch$TORCH_VERSION/index.html -q"
   ]
  },
  {
   "cell_type": "code",
   "execution_count": 3,
   "id": "98a7a533-afe2-4a66-a9ca-962bc0ade807",
   "metadata": {},
   "outputs": [
    {
     "name": "stdout",
     "output_type": "stream",
     "text": [
      "Cloning into 'GTR'...\n",
      "remote: Enumerating objects: 128, done.\u001b[K\n",
      "remote: Counting objects: 100% (128/128), done.\u001b[K\n",
      "remote: Compressing objects: 100% (104/104), done.\u001b[K\n",
      "remote: Total 128 (delta 21), reused 126 (delta 19), pack-reused 0\u001b[K\n",
      "Receiving objects: 100% (128/128), 2.66 MiB | 27.23 MiB/s, done.\n",
      "Resolving deltas: 100% (21/21), done.\n",
      "Submodule 'third_party/CenterNet2' (https://github.com/xingyizhou/CenterNet2) registered for path 'third_party/CenterNet2'\n",
      "Cloning into '/home/studio-lab-user/global-tracking-transformers-demo/GTR/third_party/CenterNet2'...\n",
      "remote: Enumerating objects: 13905, done.        \n",
      "remote: Counting objects: 100% (3017/3017), done.        \n",
      "remote: Compressing objects: 100% (1304/1304), done.        \n",
      "remote: Total 13905 (delta 1997), reused 2433 (delta 1694), pack-reused 10888        \n",
      "Receiving objects: 100% (13905/13905), 5.70 MiB | 23.73 MiB/s, done.\n",
      "Resolving deltas: 100% (9890/9890), done.\n",
      "Submodule path 'third_party/CenterNet2': checked out '42f422b3c3fe35ca4700d9bdf1c45e843c77d4cd'\n"
     ]
    }
   ],
   "source": [
    "from os.path import exists as path_exists\n",
    "if not path_exists('GTR'):\n",
    "    !git clone https://github.com/xingyizhou/GTR.git --recurse-submodules\n",
    "    # !curl https://www.dropbox.com/s/eufigxmmkv5woop/RealBasicVSR.pth?dl=0 --create-dirs -o $ModelWeights"
   ]
  },
  {
   "cell_type": "markdown",
   "id": "905d3c08-81ea-4c0a-87af-5e8473ff2315",
   "metadata": {},
   "source": [
    "## Run demo"
   ]
  },
  {
   "cell_type": "code",
   "execution_count": 5,
   "id": "a48ae1b9-8192-4c7a-a553-291336367482",
   "metadata": {},
   "outputs": [
    {
     "name": "stdout",
     "output_type": "stream",
     "text": [
      "Segmentation fault (core dumped)\n"
     ]
    }
   ],
   "source": [
    "!cd GTR && python demo.py --config-file configs/GTR_TAO_DR2101.yaml \\\n",
    "    --video-input docs/yfcc_v_acef1cb6d38c2beab6e69e266e234f.mp4 \\\n",
    "    --output output/demo_yfcc.mp4 \\\n",
    "    --opts MODEL.WEIGHTS models/GTR_TAO_DR2101.pth"
   ]
  },
  {
   "cell_type": "markdown",
   "id": "e6738793-c95e-42d6-aaa0-846e13e4120d",
   "metadata": {
    "jp-MarkdownHeadingCollapsed": true,
    "tags": []
   },
   "source": [
    "## Reference\n",
    "\n",
    "```bibtex\n",
    "@inproceedings{zhou2022global,\n",
    "  title={Global Tracking Transformers},\n",
    "  author={Zhou, Xingyi and Yin, Tianwei and Koltun, Vladlen and Kr{\\\"a}henb{\\\"u}hl, Philipp},\n",
    "  booktitle={CVPR},\n",
    "  year={2022}\n",
    "}\n",
    "```"
   ]
  }
 ],
 "metadata": {
  "kernelspec": {
   "display_name": "machinelearnear-gtr:Python",
   "language": "python",
   "name": "conda-env-machinelearnear-gtr-py"
  },
  "language_info": {
   "codemirror_mode": {
    "name": "ipython",
    "version": 3
   },
   "file_extension": ".py",
   "mimetype": "text/x-python",
   "name": "python",
   "nbconvert_exporter": "python",
   "pygments_lexer": "ipython3",
   "version": "3.8.13"
  }
 },
 "nbformat": 4,
 "nbformat_minor": 5
}
